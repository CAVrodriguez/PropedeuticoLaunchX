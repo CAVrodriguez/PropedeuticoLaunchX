{
 "cells": [
  {
   "cell_type": "markdown",
   "metadata": {},
   "source": [
    "Ejercicio 1"
   ]
  },
  {
   "cell_type": "code",
   "execution_count": 3,
   "metadata": {},
   "outputs": [
    {
     "name": "stdout",
     "output_type": "stream",
     "text": [
      "Marte\n",
      "2\n",
      "Marte\n",
      "6752\n"
     ]
    }
   ],
   "source": [
    "marte={}\n",
    "marte['nombre']='Marte'\n",
    "marte['lunas']=2\n",
    "for item in marte:\n",
    "    print (marte[item])\n",
    "marte['circunferencia'] = 6752\n",
    "marte['ecuatorial'] = 6792\n",
    "print (marte['nombre'])\n",
    "print (marte['circunferencia'])"
   ]
  },
  {
   "cell_type": "markdown",
   "metadata": {},
   "source": [
    "Ejercicio 2"
   ]
  },
  {
   "cell_type": "code",
   "execution_count": 9,
   "metadata": {},
   "outputs": [
    {
     "name": "stdout",
     "output_type": "stream",
     "text": [
      "12 lunas\n",
      "17.833333333333332\n"
     ]
    }
   ],
   "source": [
    "planet_moons = {\n",
    "    'mercury': 0,\n",
    "    'venus': 0,\n",
    "    'earth': 1,\n",
    "    'mars': 2,\n",
    "    'jupiter': 79,\n",
    "    'saturn': 82,\n",
    "    'uranus': 27,\n",
    "    'neptune': 14,\n",
    "    'pluto': 5,\n",
    "    'haumea': 2,\n",
    "    'makemake': 1,\n",
    "    'eris': 1\n",
    "}\n",
    "numero = len (planet_moons)\n",
    "print(f'{numero} lunas')\n",
    "total=0\n",
    "for i in planet_moons:\n",
    "    total += planet_moons[i]\n",
    "resultado = total/numero\n",
    "print(resultado)\n"
   ]
  }
 ],
 "metadata": {
  "interpreter": {
   "hash": "22317af4cc91468810235b4e30e69cab9a9797628ebcce7b4d755327f8b80d73"
  },
  "kernelspec": {
   "display_name": "Python 3.10.2 64-bit",
   "language": "python",
   "name": "python3"
  },
  "language_info": {
   "codemirror_mode": {
    "name": "ipython",
    "version": 3
   },
   "file_extension": ".py",
   "mimetype": "text/x-python",
   "name": "python",
   "nbconvert_exporter": "python",
   "pygments_lexer": "ipython3",
   "version": "3.10.2"
  },
  "orig_nbformat": 4
 },
 "nbformat": 4,
 "nbformat_minor": 2
}
