{
 "cells": [
  {
   "cell_type": "markdown",
   "metadata": {},
   "source": [
    "Ejercicio 1"
   ]
  },
  {
   "cell_type": "code",
   "execution_count": 3,
   "metadata": {},
   "outputs": [
    {
     "name": "stdout",
     "output_type": "stream",
     "text": [
      "80.0\n",
      "73.33333333333333\n"
     ]
    }
   ],
   "source": [
    "def lectura(tanque1,tanque2,tanque3):\n",
    "    promedio = (tanque1+tanque2+tanque3)/3\n",
    "    return promedio\n",
    "tanque1=70\n",
    "tanque2=90\n",
    "tanque3=80\n",
    "print (lectura(tanque1,tanque2,tanque3))\n",
    "tanque1=33\n",
    "tanque2=84\n",
    "tanque3=103\n",
    "print (lectura(tanque1,tanque2,tanque3))\n",
    "\n"
   ]
  },
  {
   "cell_type": "markdown",
   "metadata": {},
   "source": [
    "Ejercicio 2"
   ]
  },
  {
   "cell_type": "code",
   "execution_count": 6,
   "metadata": {},
   "outputs": [
    {
     "name": "stdout",
     "output_type": "stream",
     "text": [
      "informe de la mision a Marte\n",
      "    Combustible restante = 170 litros, 90 en el tanque interno y 80 en el tanque externo\n",
      "    Prelanzamiento iniciado a las siete cincuenta y cinco\n",
      "    Tiempo restante = 12 horas\n"
     ]
    }
   ],
   "source": [
    "def informe (hora, tiempo, destino, tanqueexterno, tanqueinterno):\n",
    "    informe = f'''informe de la mision a {destino}\n",
    "    Combustible restante = {tanqueinterno + tanqueexterno} litros, {tanqueinterno} en el tanque interno y {tanqueexterno} en el tanque externo\n",
    "    Prelanzamiento iniciado a las {hora}\n",
    "    Tiempo restante = {tiempo}'''\n",
    "    return informe\n",
    "print (informe('siete cincuenta y cinco', '12 horas', 'Marte',80,90))\n"
   ]
  }
 ],
 "metadata": {
  "interpreter": {
   "hash": "22317af4cc91468810235b4e30e69cab9a9797628ebcce7b4d755327f8b80d73"
  },
  "kernelspec": {
   "display_name": "Python 3.10.2 64-bit",
   "language": "python",
   "name": "python3"
  },
  "language_info": {
   "codemirror_mode": {
    "name": "ipython",
    "version": 3
   },
   "file_extension": ".py",
   "mimetype": "text/x-python",
   "name": "python",
   "nbconvert_exporter": "python",
   "pygments_lexer": "ipython3",
   "version": "3.10.2"
  },
  "orig_nbformat": 4
 },
 "nbformat": 4,
 "nbformat_minor": 2
}
