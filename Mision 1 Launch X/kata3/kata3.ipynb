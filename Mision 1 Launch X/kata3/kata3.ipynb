{
 "cells": [
  {
   "cell_type": "markdown",
   "metadata": {},
   "source": [
    "Ejercicio 1"
   ]
  },
  {
   "cell_type": "code",
   "execution_count": 1,
   "metadata": {},
   "outputs": [
    {
     "name": "stdout",
     "output_type": "stream",
     "text": [
      "Alerta, peligro inminente\n"
     ]
    }
   ],
   "source": [
    "asteroide=49\n",
    "if asteroide > 25:\n",
    "    print ('Alerta, peligro inminente')\n",
    "else:\n",
    "    print ('No existen amenazas actualmente')"
   ]
  },
  {
   "cell_type": "markdown",
   "metadata": {},
   "source": [
    "Ejercicio 2"
   ]
  },
  {
   "cell_type": "code",
   "execution_count": 2,
   "metadata": {},
   "outputs": [
    {
     "name": "stdout",
     "output_type": "stream",
     "text": [
      "No hay nada visible en el cielo actualmente\n"
     ]
    }
   ],
   "source": [
    "asteroide=19\n",
    "if asteroide >=20:\n",
    "    print('El asteroide es visible para el ojo desde la superficie')\n",
    "else:\n",
    "    print ('No hay nada visible en el cielo actualmente')"
   ]
  },
  {
   "cell_type": "markdown",
   "metadata": {},
   "source": [
    "Ejercicio 3"
   ]
  },
  {
   "cell_type": "code",
   "execution_count": 5,
   "metadata": {},
   "outputs": [
    {
     "name": "stdout",
     "output_type": "stream",
     "text": [
      "En el cielo hay un asteroide visible\n"
     ]
    }
   ],
   "source": [
    "velocidad=25\n",
    "tamano=25\n",
    "if (tamano > 25 and tamano < 1000) or velocidad > 25:\n",
    "    print ('Peligro inminente')\n",
    "elif velocidad >= 20:\n",
    "    print ('En el cielo hay un asteroide visible')\n",
    "else:\n",
    "    print ('Todo en orden sin nada que reportar')\n"
   ]
  }
 ],
 "metadata": {
  "interpreter": {
   "hash": "22317af4cc91468810235b4e30e69cab9a9797628ebcce7b4d755327f8b80d73"
  },
  "kernelspec": {
   "display_name": "Python 3.10.2 64-bit",
   "language": "python",
   "name": "python3"
  },
  "language_info": {
   "codemirror_mode": {
    "name": "ipython",
    "version": 3
   },
   "file_extension": ".py",
   "mimetype": "text/x-python",
   "name": "python",
   "nbconvert_exporter": "python",
   "pygments_lexer": "ipython3",
   "version": "3.10.2"
  },
  "orig_nbformat": 4
 },
 "nbformat": 4,
 "nbformat_minor": 2
}
