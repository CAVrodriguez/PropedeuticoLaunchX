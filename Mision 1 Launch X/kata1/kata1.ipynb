{
 "cells": [
  {
   "cell_type": "markdown",
   "metadata": {},
   "source": [
    "Ejercicio 1"
   ]
  },
  {
   "cell_type": "code",
   "execution_count": 1,
   "metadata": {},
   "outputs": [
    {
     "name": "stdout",
     "output_type": "stream",
     "text": [
      "La fecha de hoy es 2022-02-08\n"
     ]
    }
   ],
   "source": [
    "from datetime import date\n",
    "fecha=str(date.today())\n",
    "print('La fecha de hoy es ' + fecha)"
   ]
  },
  {
   "cell_type": "markdown",
   "metadata": {},
   "source": [
    "Ejercicio 2"
   ]
  },
  {
   "cell_type": "code",
   "execution_count": 2,
   "metadata": {},
   "outputs": [
    {
     "name": "stdout",
     "output_type": "stream",
     "text": [
      "11 parsecs, are 35.877159999999996 light years\n"
     ]
    }
   ],
   "source": [
    "parsec= 11\n",
    "light_years= str(parsec * 3.26156)\n",
    "print (str(parsec)+ ' parsecs, are ' + light_years + ' light years')"
   ]
  }
 ],
 "metadata": {
  "interpreter": {
   "hash": "22317af4cc91468810235b4e30e69cab9a9797628ebcce7b4d755327f8b80d73"
  },
  "kernelspec": {
   "display_name": "Python 3.10.2 64-bit",
   "language": "python",
   "name": "python3"
  },
  "language_info": {
   "codemirror_mode": {
    "name": "ipython",
    "version": 3
   },
   "file_extension": ".py",
   "mimetype": "text/x-python",
   "name": "python",
   "nbconvert_exporter": "python",
   "pygments_lexer": "ipython3",
   "version": "3.10.2"
  },
  "orig_nbformat": 4
 },
 "nbformat": 4,
 "nbformat_minor": 2
}
