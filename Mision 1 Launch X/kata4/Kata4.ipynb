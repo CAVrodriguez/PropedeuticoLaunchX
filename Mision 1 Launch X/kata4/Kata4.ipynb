{
 "cells": [
  {
   "cell_type": "markdown",
   "metadata": {},
   "source": [
    "Ejercicio 1"
   ]
  },
  {
   "cell_type": "code",
   "execution_count": 11,
   "metadata": {},
   "outputs": [
    {
     "name": "stdout",
     "output_type": "stream",
     "text": [
      "[' \\nOn average, the Moon moves 4cm away from the Earth every year', ' The highest daylight temperature of the Moon is 127 C']\n"
     ]
    }
   ],
   "source": [
    "texto = \"\"\"Interesting facts about the Moon. The Moon is Earth's only satellite. There are several interesting facts about the Moon and how it affects life here on Earth. \n",
    "On average, the Moon moves 4cm away from the Earth every year. This yearly drift is not significant enough to cause immediate effects on Earth. The highest daylight temperature of the Moon is 127 C.\"\"\"\n",
    "texto = texto.split('.')\n",
    "hechos= []\n",
    "\n",
    "for item in texto:\n",
    "    if 'average' in item or 'temperature' in item or 'distance' in item:\n",
    "        hechos.append(item)\n",
    "\n",
    "for item in hechos:\n",
    "    item.replace('Celsius', 'C')\n",
    "print (hechos)"
   ]
  },
  {
   "cell_type": "markdown",
   "metadata": {},
   "source": [
    "Ejercicio 2"
   ]
  },
  {
   "cell_type": "code",
   "execution_count": 18,
   "metadata": {},
   "outputs": [
    {
     "name": "stdout",
     "output_type": "stream",
     "text": [
      "\n",
      "    Datos sobre la luna\n",
      "    Nombre del planeta: la Tierra\n",
      "    Gravedad en la luna: 0.00162\n",
      "\n",
      "    Datos sobre Ganímedes\n",
      "    Nombre del planeta: Marte \n",
      "    Gravedad en Ganímedes: 0.00143\n"
     ]
    }
   ],
   "source": [
    "nombre = \"la luna\"\n",
    "gravedad = 0.00162 # in kms\n",
    "planeta = \"la Tierra\"\n",
    "\n",
    "def plantilla():\n",
    "    formato=f'''\n",
    "    Datos sobre {nombre}\n",
    "    Nombre del planeta: {planeta}\n",
    "    Gravedad en {nombre}: {gravedad}'''\n",
    "    print(formato)\n",
    "\n",
    "plantilla()\n",
    "\n",
    "planeta = 'Marte '\n",
    "gravedad  = 0.00143\n",
    "nombre = 'Ganímedes'\n",
    "\n",
    "plantilla()"
   ]
  }
 ],
 "metadata": {
  "interpreter": {
   "hash": "22317af4cc91468810235b4e30e69cab9a9797628ebcce7b4d755327f8b80d73"
  },
  "kernelspec": {
   "display_name": "Python 3.10.2 64-bit",
   "language": "python",
   "name": "python3"
  },
  "language_info": {
   "codemirror_mode": {
    "name": "ipython",
    "version": 3
   },
   "file_extension": ".py",
   "mimetype": "text/x-python",
   "name": "python",
   "nbconvert_exporter": "python",
   "pygments_lexer": "ipython3",
   "version": "3.10.2"
  },
  "orig_nbformat": 4
 },
 "nbformat": 4,
 "nbformat_minor": 2
}
