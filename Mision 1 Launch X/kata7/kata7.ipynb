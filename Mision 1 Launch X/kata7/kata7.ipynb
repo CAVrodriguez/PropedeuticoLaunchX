{
 "cells": [
  {
   "cell_type": "markdown",
   "metadata": {},
   "source": [
    "Ejercicio 1"
   ]
  },
  {
   "cell_type": "code",
   "execution_count": 1,
   "metadata": {},
   "outputs": [],
   "source": [
    "new_planet=''\n",
    "planets=[]\n",
    "while not new_planet=='done':\n",
    "    new_planet = input('Introduce otro planeta')\n",
    "    if new_planet=='done':\n",
    "        print(planets)\n",
    "    elif new_planet not in planets:\n",
    "        planets.append(new_planet)\n",
    "    \n"
   ]
  },
  {
   "cell_type": "markdown",
   "metadata": {},
   "source": [
    "Ejercicio 2"
   ]
  },
  {
   "cell_type": "code",
   "execution_count": 2,
   "metadata": {},
   "outputs": [
    {
     "name": "stdout",
     "output_type": "stream",
     "text": [
      "Jupiter\n",
      "Saturno\n",
      "Pluton\n",
      "Mercurio\n"
     ]
    }
   ],
   "source": [
    "new_planet=''\n",
    "planets=[]\n",
    "while not new_planet=='done':\n",
    "    new_planet = input('Introduce otro planeta')\n",
    "    if new_planet=='done':\n",
    "        for planet in planets:\n",
    "            print (planet)\n",
    "    elif new_planet not in planets:\n",
    "        planets.append(new_planet)"
   ]
  }
 ],
 "metadata": {
  "interpreter": {
   "hash": "22317af4cc91468810235b4e30e69cab9a9797628ebcce7b4d755327f8b80d73"
  },
  "kernelspec": {
   "display_name": "Python 3.10.2 64-bit",
   "language": "python",
   "name": "python3"
  },
  "language_info": {
   "codemirror_mode": {
    "name": "ipython",
    "version": 3
   },
   "file_extension": ".py",
   "mimetype": "text/x-python",
   "name": "python",
   "nbconvert_exporter": "python",
   "pygments_lexer": "ipython3",
   "version": "3.10.2"
  },
  "orig_nbformat": 4
 },
 "nbformat": 4,
 "nbformat_minor": 2
}
